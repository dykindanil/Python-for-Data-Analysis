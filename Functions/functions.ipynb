{
 "cells": [
  {
   "cell_type": "markdown",
   "metadata": {},
   "source": [
    "Вы работаете секретарем и вам постоянно приходят различные документы. Вы должны быть очень внимательны, чтобы не потерять ни один документ. Каталог документов хранится в следующем виде:"
   ]
  },
  {
   "cell_type": "code",
   "execution_count": 68,
   "metadata": {},
   "outputs": [],
   "source": [
    "documents = [\n",
    "    {'type': 'passport', 'number': '2207 876234', 'name': 'Василий Гупкин'},\n",
    "    {'type': 'invoice', 'number': '11-2', 'name': 'Геннадий Покемонов'},\n",
    "    {'type': 'insurance', 'number': '10006', 'name': 'Аристарх Павлов'}\n",
    "]"
   ]
  },
  {
   "cell_type": "markdown",
   "metadata": {},
   "source": [
    "Перечень полок, на которых находятся документы хранится в следующем виде:"
   ]
  },
  {
   "cell_type": "code",
   "execution_count": 69,
   "metadata": {},
   "outputs": [],
   "source": [
    "directories = {\n",
    "    '1': ['2207 876234', '11-2'],\n",
    "    '2': ['10006'],\n",
    "    '3': []\n",
    "}"
   ]
  },
  {
   "cell_type": "markdown",
   "metadata": {},
   "source": [
    "Необходимо реализовать пользовательские команды (внимание! это не название функций, которые должны быть выразительными, а команды, которые вводит пользователь, чтобы получить необходимый результат):\n",
    "  \n",
    "- p – people – команда, которая спросит номер документа и выведет имя человека, которому он принадлежит;  \n",
    "- s – shelf – команда, которая спросит номер документа и выведет номер полки, на которой он находится  \n",
    "Правильно обработайте ситуацию, когда пользователь будет вводить несуществующий документ.\n",
    "- l – list – команда, которая выведет список всех документов в формате   \n",
    "**passport \"2207 876234\" \"Василий Гупкин\"**  \n",
    "- as – add shelf – команда, которая спросит номер новой полки и добавит ее в перечень\n",
    "- d – delete – команда, которая спросит номер документа и удалит его из каталога и из перечня полок. Предусмотрите сценарий, когда пользователь вводит несуществующий документ;  \n",
    "- m – move – команда, которая спросит номер документа и целевую полку и переместит его с текущей полки на целевую. Корректно обработайте кейсы, когда пользователь пытается переместить несуществующий документ или переместить документ на несуществующую полку;  \n",
    "- a – add – команда, которая добавит новый документ в каталог и в перечень полок, спросив его номер, тип, имя владельца и номер полки, на котором он будет храниться."
   ]
  },
  {
   "cell_type": "code",
   "execution_count": 70,
   "metadata": {},
   "outputs": [],
   "source": [
    "def show_person(doc):\n",
    "    number = input('Введите номер документа: ')\n",
    "    numbers = []\n",
    "    for document in doc:\n",
    "        numbers.append(document['number'])\n",
    "        if number == document['number']:\n",
    "            print(document['name'])\n",
    "    if number not in numbers:\n",
    "        print('Несуществующий документ')\n",
    "\n",
    "def show_shelf(doc, directory):\n",
    "    number = input('Введите номер документа: ')\n",
    "    numbers = []\n",
    "    for document in doc:\n",
    "        numbers.append(document['number'])\n",
    "    for key, value in directories.items():\n",
    "        if number in value:\n",
    "            print(f'Номер полки: {key}')\n",
    "    if number not in numbers:\n",
    "        print('Несуществующий документ')\n",
    "    \n",
    "def show_documents(doc):\n",
    "    docs_list = []\n",
    "    for document in doc:\n",
    "        doc_type = document['type']\n",
    "        doc_number = document['number']\n",
    "        doc_name = document['name']\n",
    "        full_doc = f'{doc_type} \"{doc_number}\" \"{doc_name}\"'\n",
    "        docs_list.append(full_doc)\n",
    "    print(docs_list)\n",
    "\n",
    "def add_shelf(directory):\n",
    "    new_shelf = input('Введите новую полку: ')\n",
    "    if new_shelf in directory:\n",
    "        print('Полка уже существует')\n",
    "    else:\n",
    "        directory[new_shelf] = []\n",
    "        print(f'Новая полка \"{new_shelf}\" добавлена')\n",
    "\n",
    "def delete(doc, directory):\n",
    "    number = input('Введите номер документа: ')\n",
    "    numbers = []\n",
    "    for document in doc:\n",
    "        numbers.append(document['number'])\n",
    "        if number == document['number']:\n",
    "            doc.remove(document)\n",
    "    for value in directory.values():\n",
    "        if number in value:\n",
    "            value.remove(number)\n",
    "            print('Документ удален')\n",
    "    if number not in numbers:\n",
    "        print('Несуществующий документ')\n",
    "\n",
    "def move_doc(doc, directory):\n",
    "    number = input('Введите номер документа: ')\n",
    "    shelf = input('Введите целевую полку: ')\n",
    "    numbers = []\n",
    "    shelfs = []\n",
    "    for document in doc:\n",
    "        numbers.append(document['number'])\n",
    "    for key in directory.keys():\n",
    "        shelfs.append(key)\n",
    "    if number not in numbers:\n",
    "        print('Несуществующий документ')\n",
    "    elif shelf not in shelfs:\n",
    "        print('Несуществующая полка')\n",
    "    else:\n",
    "        directory[shelf].append(number)\n",
    "        for value in directory.values():\n",
    "            if number in value:\n",
    "                value.remove(number)\n",
    "        directory[shelf].append(number)\n",
    "        print(f'Документ \"{number}\" перемещен на полку \"{shelf}\"')\n",
    "    \n",
    "def add(doc, directory):\n",
    "    number = input('Введите номер документа: ')\n",
    "    doc_type = input('Введите тип документа: ')\n",
    "    name = input('Введите имя владельца: ')\n",
    "    shelf = input('Введите целевую полку: ')\n",
    "    shelfs = []\n",
    "    for key in directory.keys():\n",
    "        shelfs.append(key)\n",
    "    if shelf not in shelfs:\n",
    "        print('Несуществующая полка')\n",
    "    else:\n",
    "        directory[shelf].append(number)\n",
    "        new_doc = {'type': doc_type, 'number': number, 'name': name}\n",
    "        doc.append(new_doc)\n",
    "        print(f'Документ добавлен на полку {shelf}')\n",
    "\n",
    "def main():\n",
    "    commands = ['p', 's', 'l', 'as', 'd', 'm', 'a', 'q']\n",
    "    while True:\n",
    "        user_input = input('Введите команду: ')\n",
    "        if user_input == 'p':\n",
    "            show_person(documents)\n",
    "        elif user_input == 's':\n",
    "            show_shelf(documents, directories)\n",
    "        elif user_input == 'l':\n",
    "            show_documents(documents)\n",
    "        elif user_input == 'as':\n",
    "            add_shelf(directories)\n",
    "        elif user_input == 'd':\n",
    "            delete(documents, directories)\n",
    "        elif user_input == 'm':\n",
    "            move_doc(documents, directories)\n",
    "        elif user_input == 'a':\n",
    "            add(documents, directories)\n",
    "        elif user_input == 'q':\n",
    "            print('До свидания')\n",
    "            break\n",
    "        elif user_input not in commands:\n",
    "            print('Неверная команда, введите другую команду')"
   ]
  },
  {
   "cell_type": "code",
   "execution_count": 66,
   "metadata": {},
   "outputs": [
    {
     "name": "stdout",
     "output_type": "stream",
     "text": [
      "Введите команду: wwwww\n",
      "Неверная команда, введите другую команду\n",
      "Введите команду: p\n",
      "Введите номер документа: 10006\n",
      "Аристарх Павлов\n",
      "Введите команду: a\n",
      "Введите номер документа: 11-2\n",
      "Введите тип документа: invoice\n",
      "Введите имя владельца: Геннадий Покемонов\n",
      "Введите целевую полку: 1\n",
      "Документ добавлен на полку 1\n",
      "Введите команду: q\n",
      "До свидания\n"
     ]
    }
   ],
   "source": [
    "main()"
   ]
  },
  {
   "cell_type": "code",
   "execution_count": null,
   "metadata": {},
   "outputs": [],
   "source": []
  },
  {
   "cell_type": "code",
   "execution_count": null,
   "metadata": {},
   "outputs": [],
   "source": []
  }
 ],
 "metadata": {
  "kernelspec": {
   "display_name": "Python 3",
   "language": "python",
   "name": "python3"
  },
  "language_info": {
   "codemirror_mode": {
    "name": "ipython",
    "version": 3
   },
   "file_extension": ".py",
   "mimetype": "text/x-python",
   "name": "python",
   "nbconvert_exporter": "python",
   "pygments_lexer": "ipython3",
   "version": "3.7.6"
  }
 },
 "nbformat": 4,
 "nbformat_minor": 2
}
