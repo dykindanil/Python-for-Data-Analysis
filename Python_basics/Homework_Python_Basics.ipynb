{
 "cells": [
  {
   "cell_type": "markdown",
   "metadata": {},
   "source": [
    "**Задание 1**. Даны 2 строки: *long_phrase* и *short_phrase*. \n",
    "Напишите код, который проверяет действительно ли длинная фраза *long_phrase* длиннее короткой *short_phrase*. И выводит *True* или *False* в зависимости от результата сравнения."
   ]
  },
  {
   "cell_type": "code",
   "execution_count": null,
   "metadata": {},
   "outputs": [],
   "source": [
    "long_phrase = 'Насколько проще было бы писать программы, если бы не заказчики'\n",
    "short_phrase = '640Кб должно хватить для любых задач. Билл Гейтс (по легенде)'"
   ]
  },
  {
   "cell_type": "code",
   "execution_count": null,
   "metadata": {},
   "outputs": [],
   "source": [
    "len(long_phrase) > len(short_phrase)"
   ]
  },
  {
   "cell_type": "markdown",
   "metadata": {},
   "source": [
    "**Задание 2**. Дано значение объема файла в байтах (*в мегабайте 2^20 байт*). Напишите перевод этого значения в мегабайты в формате: \"*Объем файла равен 213.68Mb*\"."
   ]
  },
  {
   "cell_type": "code",
   "execution_count": null,
   "metadata": {},
   "outputs": [],
   "source": [
    "bytes = int(input('Объем файла в байтах: '))\n",
    "megabyte = 2**20\n",
    "print('Объем файла равен ', round(bytes / megabyte, 2), 'Mb', sep='')"
   ]
  },
  {
   "cell_type": "markdown",
   "metadata": {},
   "source": [
    "**Задание 3**. Разработать приложение для определения знака зодиака по дате рождения. Пример:\n",
    "\n",
    "Введите месяц: март\n",
    "\n",
    "Введите число: 6\n",
    "\n",
    "Вывод:\n",
    "Рыбы"
   ]
  },
  {
   "cell_type": "code",
   "execution_count": null,
   "metadata": {},
   "outputs": [],
   "source": [
    "month = input('Введите месяц: ')\n",
    "date = int(input('Введите дату: '))\n",
    "if month == 'февраль' and date > 29:\n",
    "    print('В феврале не может быть больше 29 дней')\n",
    "elif date > 31 or date < 1:\n",
    "    print('Некорректная дата')\n",
    "if month == 'март':\n",
    "    if date > 20:\n",
    "        print('Овен')\n",
    "    else: print('Рыбы')\n",
    "elif month == 'апрель':\n",
    "    if date > 20:\n",
    "        print('Телец')\n",
    "    else: print('Овен')\n",
    "elif month == 'май':\n",
    "    if date > 21:\n",
    "        print('Близнецы')\n",
    "    else: print('Телец')\n",
    "elif month == 'июнь':\n",
    "    if date > 21:\n",
    "        print('Рак')\n",
    "    else: print('Близнецы')\n",
    "elif month == 'июль':\n",
    "    if date > 22:\n",
    "        print('Лев')\n",
    "    else: print('Рак')\n",
    "elif month == 'август':\n",
    "    if date > 21:\n",
    "        print('Дева')\n",
    "    else: print('Лев')\n",
    "elif month == 'сентябрь':\n",
    "    if date > 23:\n",
    "        print('Весы')\n",
    "    else: print('Дева')\n",
    "elif month == 'октябрь':\n",
    "    if date > 23:\n",
    "        print('Скорпион')\n",
    "    else: print('Весы')\n",
    "elif month == 'ноябрь':\n",
    "    if date > 22:\n",
    "        print('Стрелец')\n",
    "    else: print('Скорпион')\n",
    "elif month == 'декабрь':\n",
    "    if date > 22:\n",
    "        print('Козерог')\n",
    "    else: print('Стрелец')\n",
    "elif month == 'январь':\n",
    "    if date > 20:\n",
    "        print('Водолей')\n",
    "    else: print('Козерог')\n",
    "elif month == 'февраль':\n",
    "    if date > 19:\n",
    "        print('Рыбы')\n",
    "    else: print('Водолей')"
   ]
  },
  {
   "cell_type": "markdown",
   "metadata": {},
   "source": [
    "**Задание 4**. Нужно разработать приложение для финансового планирования.\n",
    "Приложение учитывает сколько уходит на ипотеку, \"на жизнь\" и сколько нужно отложить на пенсию.\n",
    "Пользователь вводит:\n",
    "- заработанную плату в месяц.\n",
    "- сколько процентов от ЗП уходит на ипотеку.\n",
    "- сколько процентов от ЗП уходит \"на жизнь\".\n",
    "- сколько раз приходит премия в год.\n",
    "\n",
    "Остальная часть заработанной платы откладывается на пенсию.\n",
    "\n",
    "Также пользователю приходит премия в размере зарплаты, от которой половина уходит на отпуск, а вторая половина откладывается.\n",
    "\n",
    "Программа должна учитывать сколько премий было в год.\n",
    "\n",
    "Нужно вывести сколько денег тратит пользователь на ипотеку и сколько он накопит за год.\n",
    "\n",
    "Пример:\n",
    "\n",
    "Введите заработанную плату в месяц: 100000\n",
    "\n",
    "Введите сколько процентов уходит на ипотеку: 30\n",
    "\n",
    "Введите сколько процентов уходит на жизнь: 50\n",
    "\n",
    "Введите количество премий за год: 2\n",
    "\n",
    "Вывод:\n",
    "На ипотеку было потрачено: 360000 рублей\n",
    "Было накоплено: 340000 рублей"
   ]
  },
  {
   "cell_type": "code",
   "execution_count": null,
   "metadata": {},
   "outputs": [],
   "source": [
    "salary = int(input('Введите заработную плату в месяц: '))\n",
    "mortgage = int(input('Введите, сколько процентов уходит на ипотеку: '))\n",
    "life = int(input('Введите, сколько процентов уходит на жизнь: '))\n",
    "bonus = int(input('Введите количество премий за год: '))\n",
    "bonus_savings = (bonus / 2) * salary\n",
    "annual_mortgage = 12 * (salary * (mortgage / 100))\n",
    "life_costs = 12 * (salary * (life / 100))\n",
    "total_costs = life_costs + annual_mortgage # не включают траты на отпуск, т.к. не нужно для расчетов\n",
    "savings = bonus_savings + (12 * salary - total_costs)\n",
    "print('На ипотеку было потрачено:', annual_mortgage, 'рублей', 'Было накоплено:', savings, 'рублей')"
   ]
  },
  {
   "cell_type": "code",
   "execution_count": null,
   "metadata": {},
   "outputs": [],
   "source": []
  }
 ],
 "metadata": {
  "kernelspec": {
   "display_name": "Python 3",
   "language": "python",
   "name": "python3"
  },
  "language_info": {
   "codemirror_mode": {
    "name": "ipython",
    "version": 3
   },
   "file_extension": ".py",
   "mimetype": "text/x-python",
   "name": "python",
   "nbconvert_exporter": "python",
   "pygments_lexer": "ipython3",
   "version": "3.7.6"
  }
 },
 "nbformat": 4,
 "nbformat_minor": 2
}
